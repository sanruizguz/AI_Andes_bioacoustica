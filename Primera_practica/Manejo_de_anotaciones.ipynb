{
 "cells": [
  {
   "cell_type": "markdown",
   "metadata": {},
   "source": [
    "# Primera sesion practica: manejo de anotaciones"
   ]
  },
  {
   "cell_type": "markdown",
   "metadata": {},
   "source": [
    "### Primera sesión: anotación de grabaciones y manejo de anotaciones \n",
    "\n",
    "1. Para este ejercicio vamos a hacer 'strong labels' sobre una grabación desconocida. Para esto vamos a usar el software Raven lite 2. Para descargarlo solo es necesario ir a [esta pagina](https://www.ravensoundsoftware.com/raven-lite-downloads/) y descargar la version según su dispositivo.\n",
    "\n",
    "2. Crea un ambiente virtual: Para esta practica es necesario instalar el paquete Opensoundscape, debido a que este tiene muchas dependencias asociadas que pueden entrar en conflicto facilmente, es recomendable crear un ambiente virtual individual, para ello vamos a usar conda, luego vamos a descargar la version mas reciente de opensoundscape. Hay otras formas de instalar este paquete detalladas en la [documentacion](https://opensoundscape.org/en/latest/installation/mac_and_linux.html)\n",
    "\n",
    "```\n",
    "conda create --name opensoundscape python==3.10\n",
    "conda activate opensoundscape\n",
    "pip install opensoundscape==0.12.0\n",
    "```\n",
    "3. Descarga los datos para este ejercicio: descarga los archivos `annotation_Files.zip` y `mp3_Files.zip` del este [link](https://datadryad.org/dataset/doi:10.5061/dryad.d2547d81z). Mueve los archivos descomprimidos a la carpeta \"/AI_Andes/Sesiones_practicas/Primera_practica/datos_anotados\""
   ]
  },
  {
   "cell_type": "code",
   "execution_count": 43,
   "metadata": {},
   "outputs": [],
   "source": [
    "# Paquetes necesarios\n",
    "from opensoundscape import Audio, Spectrogram\n",
    "from opensoundscape.annotations import BoxedAnnotations\n",
    "import numpy as np\n",
    "import pandas as pd\n",
    "from glob import glob\n",
    "from pathlib import Path\n",
    "from matplotlib import pyplot as plt\n",
    "import os\n",
    "plt.rcParams['figure.figsize']=[15,5]\n",
    "%config InlineBackend.figure_format = 'retina'"
   ]
  },
  {
   "cell_type": "markdown",
   "metadata": {},
   "source": [
    "## Estructura de los datos\n",
    "\n",
    "Hay varias formas de guardar anotaciones, con el objetivo de no generar archivos duplicados durante todo el flujo de trabajo lo mas eficiente es mantener los archivos de anotacion archivos de anotacion en txt que estan relacionados con una grabacion mas extensa. "
   ]
  },
  {
   "cell_type": "code",
   "execution_count": null,
   "metadata": {},
   "outputs": [],
   "source": [
    "# Asegurese que este path relativo sea identificado correctamente en su ordenador\n",
    "dataset_path = Path(\"./datos_anotados/\")\n",
    "\n",
    "# Cambio de nombre de una de las carpetas\n",
    "if os.path.exists('./datos_anotados/mp3_Files'):\n",
    "    os.rename('./datos_anotados/mp3_Files', './datos_anotados/Recordings')\n",
    "else:\n",
    "    print('Carpeta correctamente renombrada')\n",
    "\n",
    "# Ejemplo con un archivo de audio y el correspondiente archivo de anotación de Raven\n",
    "audio_file = \"./datos_anotados/Recordings/Recording_2/Recording_2_Segment_01.mp3\"\n",
    "annotation_file = \"./datos_anotados/annotation_Files/Recording_2/Recording_2_Segment_01.Table.1.selections.txt\"\n",
    "annotation_table = pd.read_csv(annotation_file, sep='\\t')\n",
    "\n",
    "# Despleguemos un espectrograma y una parte de la tabla con sus anotaciones \n",
    "Spectrogram.from_audio(Audio.from_file(audio_file)).plot()\n",
    "print(annotation_table.head(10))\n"
   ]
  },
  {
   "cell_type": "markdown",
   "metadata": {},
   "source": [
    "## Organizar las \"Cajas\" con anotaciones "
   ]
  },
  {
   "cell_type": "code",
   "execution_count": 59,
   "metadata": {},
   "outputs": [],
   "source": [
    "# Hacemos una lista con los archivos de texto con las anotaciones\n",
    "selections = glob(f\"{dataset_path}/Annotation_Files/*/*.txt\")\n",
    "\n",
    "# Creamos una lista de archivos de audio, uno correspondiente a cada archivo de Raven\n",
    "# (Los archivos de audio tienen los mismos nombres que las tablas de Raven con diferente extension)\n",
    "audio_files = [\n",
    "    f.replace(\"Annotation_Files\", \"Recordings\").replace(\n",
    "        \".Table.1.selections.txt\", \".mp3\"\n",
    "    )\n",
    "    for f in selections\n",
    "]"
   ]
  },
  {
   "cell_type": "markdown",
   "metadata": {},
   "source": [
    "Luego de \"conectar\" los archivos de audio con las anotaciones al cambiar los paths, ahora solo es necesario crear una tabla que incluya la informacion de cada caja junto con el path del archivo de sonido correspondiente."
   ]
  },
  {
   "cell_type": "code",
   "execution_count": null,
   "metadata": {},
   "outputs": [],
   "source": [
    "annotations = BoxedAnnotations.from_raven_files(\n",
    "    selections, annotation_column=\"Species\", # Recuerde especificar la identidad de cada caja (la unica columna disponible en Raven lite)\n",
    "    audio_files=audio_files\n",
    ")\n",
    "annotations.df.head(5)"
   ]
  },
  {
   "cell_type": "code",
   "execution_count": null,
   "metadata": {},
   "outputs": [],
   "source": [
    "# Miremos cuantas grabaciones por clase tenemos\n",
    "annotations.df.annotation.value_counts()"
   ]
  },
  {
   "cell_type": "code",
   "execution_count": null,
   "metadata": {},
   "outputs": [],
   "source": [
    "# OpenSoundscape ofrece opciones para poder manejar las anotaciones como crear un subset con pocas clases\n",
    "classes_to_keep = [\"WOTH\", \"HETH\"]\n",
    "thrush_annotations = annotations.subset(classes_to_keep)\n",
    "thrush_annotations.df.annotation.value_counts()"
   ]
  },
  {
   "cell_type": "markdown",
   "metadata": {},
   "source": [
    "## Preparar las anotaciones para que puedan ser incorporadas en el flujo de trabajo de entrenamiento-evaluacion de un clasificador supervisado de machine learning\n",
    "\n",
    "Para que podamos usar las anotaciones tenemos que cambiar el formato a \"multi-hot encoding labels\" en donde cada fila es una anotacion y la presencia o ausencia de cada una de las clases incluidas es marcada con \"1\" y \"0\" en columnas independientes. El formato de Multi-hot encoding tambien facilita la representacion de anotaciones con mas de una clase por clip (multilabel)\n"
   ]
  },
  {
   "cell_type": "code",
   "execution_count": 65,
   "metadata": {},
   "outputs": [
    {
     "data": {
      "text/html": [
       "<div>\n",
       "<style scoped>\n",
       "    .dataframe tbody tr th:only-of-type {\n",
       "        vertical-align: middle;\n",
       "    }\n",
       "\n",
       "    .dataframe tbody tr th {\n",
       "        vertical-align: top;\n",
       "    }\n",
       "\n",
       "    .dataframe thead th {\n",
       "        text-align: right;\n",
       "    }\n",
       "</style>\n",
       "<table border=\"1\" class=\"dataframe\">\n",
       "  <thead>\n",
       "    <tr style=\"text-align: right;\">\n",
       "      <th></th>\n",
       "      <th></th>\n",
       "      <th></th>\n",
       "      <th>NOCA</th>\n",
       "      <th>EATO</th>\n",
       "      <th>SCTA</th>\n",
       "      <th>BAWW</th>\n",
       "      <th>BCCH</th>\n",
       "      <th>AMCR</th>\n",
       "      <th>NOFL</th>\n",
       "    </tr>\n",
       "    <tr>\n",
       "      <th>file</th>\n",
       "      <th>start_time</th>\n",
       "      <th>end_time</th>\n",
       "      <th></th>\n",
       "      <th></th>\n",
       "      <th></th>\n",
       "      <th></th>\n",
       "      <th></th>\n",
       "      <th></th>\n",
       "      <th></th>\n",
       "    </tr>\n",
       "  </thead>\n",
       "  <tbody>\n",
       "    <tr>\n",
       "      <th rowspan=\"5\" valign=\"top\">datos_anotados/Recordings/Recording_1/Recording_1_Segment_31.mp3</th>\n",
       "      <th>0.0</th>\n",
       "      <th>3.0</th>\n",
       "      <td>False</td>\n",
       "      <td>True</td>\n",
       "      <td>False</td>\n",
       "      <td>False</td>\n",
       "      <td>False</td>\n",
       "      <td>False</td>\n",
       "      <td>False</td>\n",
       "    </tr>\n",
       "    <tr>\n",
       "      <th>3.0</th>\n",
       "      <th>6.0</th>\n",
       "      <td>False</td>\n",
       "      <td>False</td>\n",
       "      <td>False</td>\n",
       "      <td>False</td>\n",
       "      <td>False</td>\n",
       "      <td>False</td>\n",
       "      <td>False</td>\n",
       "    </tr>\n",
       "    <tr>\n",
       "      <th>6.0</th>\n",
       "      <th>9.0</th>\n",
       "      <td>False</td>\n",
       "      <td>True</td>\n",
       "      <td>False</td>\n",
       "      <td>False</td>\n",
       "      <td>False</td>\n",
       "      <td>False</td>\n",
       "      <td>False</td>\n",
       "    </tr>\n",
       "    <tr>\n",
       "      <th>9.0</th>\n",
       "      <th>12.0</th>\n",
       "      <td>False</td>\n",
       "      <td>False</td>\n",
       "      <td>False</td>\n",
       "      <td>False</td>\n",
       "      <td>False</td>\n",
       "      <td>False</td>\n",
       "      <td>False</td>\n",
       "    </tr>\n",
       "    <tr>\n",
       "      <th>12.0</th>\n",
       "      <th>15.0</th>\n",
       "      <td>False</td>\n",
       "      <td>False</td>\n",
       "      <td>False</td>\n",
       "      <td>False</td>\n",
       "      <td>False</td>\n",
       "      <td>True</td>\n",
       "      <td>False</td>\n",
       "    </tr>\n",
       "  </tbody>\n",
       "</table>\n",
       "</div>"
      ],
      "text/plain": [
       "                                                                         NOCA  \\\n",
       "file                                               start_time end_time          \n",
       "datos_anotados/Recordings/Recording_1/Recording... 0.0        3.0       False   \n",
       "                                                   3.0        6.0       False   \n",
       "                                                   6.0        9.0       False   \n",
       "                                                   9.0        12.0      False   \n",
       "                                                   12.0       15.0      False   \n",
       "\n",
       "                                                                         EATO  \\\n",
       "file                                               start_time end_time          \n",
       "datos_anotados/Recordings/Recording_1/Recording... 0.0        3.0        True   \n",
       "                                                   3.0        6.0       False   \n",
       "                                                   6.0        9.0        True   \n",
       "                                                   9.0        12.0      False   \n",
       "                                                   12.0       15.0      False   \n",
       "\n",
       "                                                                         SCTA  \\\n",
       "file                                               start_time end_time          \n",
       "datos_anotados/Recordings/Recording_1/Recording... 0.0        3.0       False   \n",
       "                                                   3.0        6.0       False   \n",
       "                                                   6.0        9.0       False   \n",
       "                                                   9.0        12.0      False   \n",
       "                                                   12.0       15.0      False   \n",
       "\n",
       "                                                                         BAWW  \\\n",
       "file                                               start_time end_time          \n",
       "datos_anotados/Recordings/Recording_1/Recording... 0.0        3.0       False   \n",
       "                                                   3.0        6.0       False   \n",
       "                                                   6.0        9.0       False   \n",
       "                                                   9.0        12.0      False   \n",
       "                                                   12.0       15.0      False   \n",
       "\n",
       "                                                                         BCCH  \\\n",
       "file                                               start_time end_time          \n",
       "datos_anotados/Recordings/Recording_1/Recording... 0.0        3.0       False   \n",
       "                                                   3.0        6.0       False   \n",
       "                                                   6.0        9.0       False   \n",
       "                                                   9.0        12.0      False   \n",
       "                                                   12.0       15.0      False   \n",
       "\n",
       "                                                                         AMCR  \\\n",
       "file                                               start_time end_time          \n",
       "datos_anotados/Recordings/Recording_1/Recording... 0.0        3.0       False   \n",
       "                                                   3.0        6.0       False   \n",
       "                                                   6.0        9.0       False   \n",
       "                                                   9.0        12.0      False   \n",
       "                                                   12.0       15.0       True   \n",
       "\n",
       "                                                                         NOFL  \n",
       "file                                               start_time end_time         \n",
       "datos_anotados/Recordings/Recording_1/Recording... 0.0        3.0       False  \n",
       "                                                   3.0        6.0       False  \n",
       "                                                   6.0        9.0       False  \n",
       "                                                   9.0        12.0      False  \n",
       "                                                   12.0       15.0      False  "
      ]
     },
     "execution_count": 65,
     "metadata": {},
     "output_type": "execute_result"
    }
   ],
   "source": [
    "# A veces se desean anotaciones mas cortas (Reminder para dibujar las cajas desde el tiempo inicial exacto de cada señal)\n",
    "clip_duration = 3\n",
    "clip_overlap = 0\n",
    "min_label_overlap = 0.25\n",
    "species_of_interest = [\"NOCA\", \"EATO\", \"SCTA\", \"BAWW\", \"BCCH\", \"AMCR\", \"NOFL\"]\n",
    "\n",
    "labels_df = annotations.clip_labels(\n",
    "    clip_duration=clip_duration,\n",
    "    clip_overlap=clip_overlap,\n",
    "    min_label_overlap=min_label_overlap,\n",
    "    class_subset=species_of_interest,  # En caso de que quieras hacer un subset\n",
    ")\n",
    "labels_df.head()"
   ]
  }
 ],
 "metadata": {
  "kernelspec": {
   "display_name": "opensoundscape",
   "language": "python",
   "name": "python3"
  },
  "language_info": {
   "codemirror_mode": {
    "name": "ipython",
    "version": 3
   },
   "file_extension": ".py",
   "mimetype": "text/x-python",
   "name": "python",
   "nbconvert_exporter": "python",
   "pygments_lexer": "ipython3",
   "version": "3.10.16"
  }
 },
 "nbformat": 4,
 "nbformat_minor": 2
}
